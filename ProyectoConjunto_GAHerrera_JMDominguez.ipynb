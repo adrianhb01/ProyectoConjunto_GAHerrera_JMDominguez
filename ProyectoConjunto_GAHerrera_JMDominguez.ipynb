{
 "cells": [
  {
   "cell_type": "markdown",
   "id": "aeea549c",
   "metadata": {},
   "source": [
    "<img style=\"float: left; margin: 30px 15px 15px 15px;\" src=\"https://pngimage.net/wp-content/uploads/2018/06/logo-iteso-png-5.png\" width=\"300\" height=\"500\" /> \n",
    "    \n",
    "    \n",
    "### <font color='navy'> Simulación de procesos financieros. \n",
    "\n",
    "**Nombres:** Gustavo Adrián Herrera Barragán & Julia María Dominguez Russell.\n",
    "\n",
    "**Fecha:** 09 de febrero del 2022.\n",
    "\n",
    "**Expediente** : 734546 & 749767.\n",
    "**Profesor:** Oscar David Jaramillo Zuluaga.\n",
    "    \n",
    "**Link Github**: https://github.com/adrianhb01/ProyectoConjunto_GAHerrera_JMDominguez.git\n",
    "\n",
    "# Tarea 2 a) Optimización Programación: Clase 4."
   ]
  },
  {
   "cell_type": "markdown",
   "id": "ac1e9dec",
   "metadata": {},
   "source": [
    "–––––––––––––––––––––––––––––––––––––––––––––––––––––––––––––––––––––––––––––––––––––––––––––––––––––––––––––––––––––––––––––––––––––––––––"
   ]
  },
  {
   "cell_type": "markdown",
   "id": "c141643c",
   "metadata": {},
   "source": [
    "# Enunciado de tarea:"
   ]
  },
  {
   "cell_type": "markdown",
   "id": "4927b3be",
   "metadata": {},
   "source": [
    "### Ejercicio 1: \n",
    "1. Imagine una rutina contable utilizada en una librería. Funciona en una lista con sublistas, que se ven así:\n",
    "![imagen.png](attachment:imagen.png)\n",
    "Escriba un programa en Python, que devuelve una lista con tuplas de tamaño 2. Cada tupla consiste en el número de pedido y el costo total del pedido. El producto debe aumentarse en 10€ si el valor de la orden es inferior a 100,00 €. \n",
    "Escribe un programa Python usando unicamente las funciones **lambda y map**.\n",
    "\n",
    "`orders = [ [\"34587\", \"Learning Python, Mark Lutz\", 4, 40.95], \n",
    "           [\"98762\", \"Programming Python, Mark Lutz\", 5, 56.80], \n",
    "           [\"77226\", \"Head First Python, Paul Barry\", 3,32.95],\n",
    "           [\"88112\", \"Einführung in Python3, Bernd Klein\", 3, 24.99]]`"
   ]
  },
  {
   "cell_type": "code",
   "execution_count": 170,
   "id": "c6517829",
   "metadata": {},
   "outputs": [],
   "source": [
    "import pandas as pd\n",
    "import numpy as np\n",
    "from functools import reduce\n",
    "import time,math \n",
    "import matplotlib.pyplot as plt"
   ]
  },
  {
   "cell_type": "code",
   "execution_count": 171,
   "id": "56fc7a2a",
   "metadata": {},
   "outputs": [],
   "source": [
    "########### Solución 1:\n",
    "orders = [ [\"34587\", \"Learning Python, Mark Lutz\", 4, 40.95], \n",
    "           [\"98762\", \"Programming Python, Mark Lutz\", 5, 56.80], \n",
    "           [\"77226\", \"Head First Python, Paul Barry\", 3,32.95],\n",
    "           [\"88112\", \"Einführung in Python3, Bernd Klein\", 3, 24.99]]"
   ]
  },
  {
   "cell_type": "code",
   "execution_count": 174,
   "id": "26f7a882",
   "metadata": {
    "scrolled": false
   },
   "outputs": [
    {
     "data": {
      "text/plain": [
       "[('34587', 163.8),\n",
       " ('98762', 284.0),\n",
       " ('77226', 108.85000000000001),\n",
       " ('88112', 84.97)]"
      ]
     },
     "execution_count": 174,
     "metadata": {},
     "output_type": "execute_result"
    }
   ],
   "source": [
    "# Código de solución estudiante 1:\n",
    "sumar = lambda x: x + 10 if x < 100 else x\n",
    "respuesta = list(map(lambda x: (x[0], sumar(x[2] * x[3])), orders))\n",
    "respuesta"
   ]
  },
  {
   "cell_type": "code",
   "execution_count": 175,
   "id": "4fddc80c",
   "metadata": {},
   "outputs": [
    {
     "data": {
      "text/plain": [
       "[('34587', 163.8),\n",
       " ('98762', 284.0),\n",
       " ('77226', 108.85000000000001),\n",
       " ('88112', 84.97)]"
      ]
     },
     "execution_count": 175,
     "metadata": {},
     "output_type": "execute_result"
    }
   ],
   "source": [
    "# Código de solución estudiante 2:\n",
    "def sumardiez(s):\n",
    "    if (s<100):\n",
    "        s+=10\n",
    "    return s\n",
    "orders2= pd.DataFrame(orders)\n",
    "precio= orders2[3]*orders2[2]\n",
    "\n",
    "precio_final= list(map(sumardiez, precio))\n",
    "\n",
    "resultado= list(map(lambda x,y: (x,y), orders2[0],precio_final))\n",
    "resultado\n"
   ]
  },
  {
   "cell_type": "markdown",
   "id": "b5d27897",
   "metadata": {},
   "source": [
    "**Estudiante 2:**\n",
    "\n",
    "Primero importamos la librería pandas para poder usar data frames.\n",
    "Después creamos una función llamda `sumardiez`, la cual le suma 10 a un valor si este es menor que 100. \n",
    "Después creamos una variable de nombre `orders2`, la cual será un data frame de la lista `orders`, de esta manera podremos hacer operaciones entre las columnas.\n",
    "Después creamos una variable de nombre `precio`, la cual es el resultado de multiplicar la tercera y cuarta columna del data frame `orders2`.\n",
    "Para obtener el precio final aplicamos la función `sumardiez` a `precio`con un `map()`, y guardamos este resultado en la variable `precio_final`.\n",
    "Por último, para obtener el resultado usamos un `map()`con una función `lambda`que ponga las variables `ordern[0]` y `precio_final`en una tupla.\n"
   ]
  },
  {
   "cell_type": "markdown",
   "id": "9607ee39",
   "metadata": {},
   "source": [
    "–––––––––––––––––––––––––––––––––––––––––––––––––––––––––––––––––––––––––––––––––––––––––––––––––––––––––––––––––––––––––––––––––––––––––––"
   ]
  },
  {
   "cell_type": "markdown",
   "id": "31948373",
   "metadata": {},
   "source": [
    "### Ejercicio 2:\n",
    "           \n",
    "2. La misma librería, pero esta vez trabajamos en una lista diferente. Las sublistas de nuestras listas se ven así: \n",
    "[número de orden, (número de artículo, cantidad, precio por unidad), ... (número de artículo, cantidad, precio por unidad)] \n",
    "\n",
    "`orders = [[1, (\"5464\", 4, 9.99), (\"8274\",18,12.99), (\"9744\", 9, 44.95)], \n",
    "\t       [2, (\"5464\", 9, 9.99), (\"9744\", 9, 44.95)],\n",
    "\t       [3, (\"5464\", 9, 9.99), (\"88112\", 11, 24.99)],\n",
    "           [4, (\"8732\", 7, 11.99), (\"7733\",11,18.99), (\"88112\", 5, 39.95)] ]`\n",
    "\n",
    "Escriba un programa que devuelva una lista de dos tuplas que tengan la información de (número de pedido, cantidad total de pedido). Utilice la función `Reduce`. Recuerde el precio del pedido del producto debe aumentarse en 10€ si el valor de la orden es inferior a 100,00 €.\n",
    "\n",
    "Resolver los anteriores ejercicios usando pandas (DataFrame)"
   ]
  },
  {
   "cell_type": "code",
   "execution_count": 176,
   "id": "280e4187",
   "metadata": {},
   "outputs": [],
   "source": [
    "########### Solución 2:\n",
    "orders = [[1, (\"5464\", 4, 9.99), (\"8274\",18,12.99), (\"9744\", 9, 44.95)], \n",
    "          [2, (\"5464\", 9, 9.99), (\"9744\", 9, 44.95)],\n",
    "          [3, (\"5464\", 9, 9.99), (\"88112\", 11, 24.99)],\n",
    "          [4, (\"8732\", 7, 11.99), (\"7733\",11,18.99), (\"88112\", 5, 39.95)] ]\n"
   ]
  },
  {
   "cell_type": "code",
   "execution_count": 177,
   "id": "41089b0d",
   "metadata": {},
   "outputs": [
    {
     "data": {
      "text/plain": [
       "[(1, 688.3299999999999),\n",
       " (2, 504.46000000000004),\n",
       " (3, 374.79999999999995),\n",
       " (4, 502.57)]"
      ]
     },
     "execution_count": 177,
     "metadata": {},
     "output_type": "execute_result"
    }
   ],
   "source": [
    "# Código de solución estudiante 1:\n",
    "Respuesta = list(map(\n",
    "    lambda x: (x[0], sum(list(map(lambda x2: sumar(x2[1] * x2[2]) ,x[1:])))), orders\n",
    "))\n",
    "Respuesta"
   ]
  },
  {
   "cell_type": "code",
   "execution_count": 178,
   "id": "6203fe1e",
   "metadata": {},
   "outputs": [
    {
     "data": {
      "text/plain": [
       "[(1, 688.3299999999999), (2, 504.46000000000004), (3, 374.79999999999995)]"
      ]
     },
     "execution_count": 178,
     "metadata": {},
     "output_type": "execute_result"
    }
   ],
   "source": [
    "## Código de solución estudiante 2\n",
    "\n",
    "def sumardiez(s):\n",
    "    if (s<100):\n",
    "        s+=10\n",
    "    return s\n",
    "p= lambda x,y: x+y\n",
    "\n",
    "precios= [[i[1]*i[2] for i in x[1:]]for x in orders]\n",
    "\n",
    "precios2= list(map(sumardiez, i) for i in precios)\n",
    "\n",
    "precio_final= [reduce(p, i) for i in precios2]\n",
    "\n",
    "resultado= list(map(lambda x,y: (x,y),range(1,4) ,precio_final))\n",
    "\n",
    "resultado"
   ]
  },
  {
   "cell_type": "markdown",
   "id": "a3abea8e",
   "metadata": {},
   "source": [
    "**Estudiante 2:**\n",
    "\n",
    "Creamos una función que sume 10 a una variable si esta es menor a 100. También creamos una función anónima que sume dos variables.\n",
    "Después para calcular los precios hacemos dos iteraciones en una comprensión de listas, con esto multiplicamos el precio del producto por la cantidad.\n",
    "Creamos otra varaible en la cual almacenamos los precios al aplicarle la función de `sumardiez`.\n",
    "Para calcular el precio final de cada orden usamos la función reduce, con la cual sumamos los precios de cada orden.\n",
    "Por último, ponemos los valores en una lista de dos tuplas."
   ]
  },
  {
   "cell_type": "markdown",
   "id": "65585ba0",
   "metadata": {},
   "source": [
    "–––––––––––––––––––––––––––––––––––––––––––––––––––––––––––––––––––––––––––––––––––––––––––––––––––––––––––––––––––––––––––––––––––––––––––"
   ]
  },
  {
   "cell_type": "markdown",
   "id": "7e51f085",
   "metadata": {},
   "source": [
    "### Ejercicio 4\n",
    "4. Use filter to eliminate all words that are shorter than 4 letters from a list of words\n",
    "`list='the notion of a lambda function goes all the way back to the origin of computer science'`"
   ]
  },
  {
   "cell_type": "code",
   "execution_count": 186,
   "id": "e804e1f1",
   "metadata": {},
   "outputs": [
    {
     "name": "stdout",
     "output_type": "stream",
     "text": [
      "['notion', 'lambda', 'function', 'goes', 'back', 'origin', 'computer', 'science']\n"
     ]
    }
   ],
   "source": [
    "# Código de solución estudiante 1:\n",
    "lista_Z = 'the notion of a lambda function goes all the way back to the origin of computer science'.split()\n",
    "respuesta = list(filter(lambda A: len(A)>= 4,lista_Z))\n",
    "print (respuesta)"
   ]
  },
  {
   "cell_type": "code",
   "execution_count": 187,
   "id": "f6ddc62c",
   "metadata": {
    "scrolled": true
   },
   "outputs": [
    {
     "data": {
      "text/plain": [
       "['notion',\n",
       " 'lambda',\n",
       " 'function',\n",
       " 'goes',\n",
       " 'back',\n",
       " 'origin',\n",
       " 'computer',\n",
       " 'science']"
      ]
     },
     "execution_count": 187,
     "metadata": {},
     "output_type": "execute_result"
    }
   ],
   "source": [
    "# Código de solución estudiante 2:\n",
    "lista = 'the notion of a lambda function goes all the way back to the origin of computer science'.split()\n",
    "result = list(filter(lambda palabra: len(palabra) >= 4, lista))\n",
    "result"
   ]
  },
  {
   "cell_type": "markdown",
   "id": "810ff726",
   "metadata": {},
   "source": [
    "**Estudiante 2:**\n",
    "\n",
    "A la lista le aplicamos la función `split()` para que divida el string en palabras.\n",
    "Después usamos la función `filter` para que solamente nos muestre las palabras que son mayores o igual a 4 de la lista."
   ]
  },
  {
   "cell_type": "markdown",
   "id": "a6d9d194",
   "metadata": {},
   "source": [
    "–––––––––––––––––––––––––––––––––––––––––––––––––––––––––––––––––––––––––––––––––––––––––––––––––––––––––––––––––––––––––––––––––––––––––––"
   ]
  },
  {
   "cell_type": "markdown",
   "id": "a77338b7",
   "metadata": {},
   "source": [
    "### Ejercicio 5\n",
    "5. Use filter to determine the percentage of Fahrenheit temperatures in a list are within the range 32 to 80"
   ]
  },
  {
   "cell_type": "code",
   "execution_count": 188,
   "id": "fb87c975",
   "metadata": {},
   "outputs": [
    {
     "name": "stdout",
     "output_type": "stream",
     "text": [
      "[ 35.97387961  99.13294268  92.6178302   99.69549478  63.21119535\n",
      "  73.90387697  95.50028838  99.21476553  36.98251238 101.45813729\n",
      " 100.5917418   89.38159435  89.52156589  83.8084752   28.37990868\n",
      "  68.75395211  45.86132067  36.58307493  56.32208365  33.96219302\n",
      "  45.29071318  74.86289938  66.51091383  88.19316186  94.26635864\n",
      "  46.83131624 109.60744472 109.68427993  44.55796499  92.84146259]\n"
     ]
    }
   ],
   "source": [
    "########### Solución 4:\n",
    "import numpy as np\n",
    "np.random.seed(55555)\n",
    "temperatures = np.random.uniform(25,110,30)\n",
    "print(temperatures)"
   ]
  },
  {
   "cell_type": "code",
   "execution_count": 189,
   "id": "486133d1",
   "metadata": {},
   "outputs": [
    {
     "name": "stdout",
     "output_type": "stream",
     "text": [
      "[35.97387961379455, 63.211195349983264, 73.90387696517755, 36.982512376595906, 68.75395211338406, 45.86132066984196, 36.58307493022292, 56.322083650154724, 33.9621930206693, 45.29071317816652, 74.86289938282341, 66.51091382521807, 46.831316244170544, 44.55796498523391]\n"
     ]
    }
   ],
   "source": [
    "# Código de solución estudiante 1:\n",
    "result = list(filter(lambda temp: 32<= temp <= 80, temperatures))\n",
    "print (result)"
   ]
  },
  {
   "cell_type": "code",
   "execution_count": 190,
   "id": "e640b5f5",
   "metadata": {
    "scrolled": true
   },
   "outputs": [
    {
     "data": {
      "text/plain": [
       "[35.97387961379455,\n",
       " 63.211195349983264,\n",
       " 73.90387696517755,\n",
       " 36.982512376595906,\n",
       " 68.75395211338406,\n",
       " 45.86132066984196,\n",
       " 36.58307493022292,\n",
       " 56.322083650154724,\n",
       " 33.9621930206693,\n",
       " 45.29071317816652,\n",
       " 74.86289938282341,\n",
       " 66.51091382521807,\n",
       " 46.831316244170544,\n",
       " 44.55796498523391]"
      ]
     },
     "execution_count": 190,
     "metadata": {},
     "output_type": "execute_result"
    }
   ],
   "source": [
    "# Código de solución estudiante 2:\n",
    "result = list(filter(lambda temp: 32<= temp <= 80, temperatures))\n",
    "result\n"
   ]
  },
  {
   "cell_type": "markdown",
   "id": "f47b251a",
   "metadata": {},
   "source": [
    "**Estudiante 2**\n",
    "\n",
    "Con la función filter primero asignamos una función lambda la cual establece que la temperatura debe ser mayor o igual a 32 y menor o igual a 80, tomando valores de la variable temperatures."
   ]
  },
  {
   "cell_type": "markdown",
   "id": "ccc985e7",
   "metadata": {},
   "source": [
    "–––––––––––––––––––––––––––––––––––––––––––––––––––––––––––––––––––––––––––––––––––––––––––––––––––––––––––––––––––––––––––––––––––––––––––"
   ]
  },
  {
   "cell_type": "markdown",
   "id": "fe86c3a8",
   "metadata": {},
   "source": [
    "### Ejercicio 6\n",
    "6. Use reduce to find the lower left corner (minimum x and minimum y value) for a list of point locations\n",
    "> **Hint**: Explore the command `np.minimum.reduce` [link](https://docs.scipy.org/doc/numpy/reference/generated/numpy.ufunc.reduce.html)"
   ]
  },
  {
   "cell_type": "code",
   "execution_count": 191,
   "id": "9affc1f1",
   "metadata": {},
   "outputs": [
    {
     "name": "stdout",
     "output_type": "stream",
     "text": [
      "[[17 97]\n",
      " [22 33]\n",
      " [37 46]\n",
      " [57 28]\n",
      " [11 25]\n",
      " [14  2]\n",
      " [74 16]\n",
      " [12 37]\n",
      " [35 21]\n",
      " [66 65]\n",
      " [86 58]\n",
      " [67 81]\n",
      " [ 0 48]\n",
      " [28 66]\n",
      " [76 22]\n",
      " [46 47]\n",
      " [64  7]\n",
      " [88 94]\n",
      " [65 13]\n",
      " [75 89]\n",
      " [23 17]\n",
      " [36 63]\n",
      " [62 36]\n",
      " [64 17]\n",
      " [18 19]\n",
      " [88 41]\n",
      " [21 49]\n",
      " [98 36]\n",
      " [81 73]\n",
      " [62 90]]\n"
     ]
    }
   ],
   "source": [
    "########### Solución 5\n",
    "np.random.seed(55555)\n",
    "point_xy = np.random.randint(0,100,[30,2])\n",
    "print(point_xy)"
   ]
  },
  {
   "cell_type": "code",
   "execution_count": 192,
   "id": "38bbf561",
   "metadata": {},
   "outputs": [
    {
     "name": "stdout",
     "output_type": "stream",
     "text": [
      "Minimum: 0\n",
      "Minimum: 2\n"
     ]
    }
   ],
   "source": [
    "# Código de solución estudiante 1\n",
    "x, y = np.minimum.reduce(point_xy)\n",
    "print(\"Minimum:\", x)\n",
    "print(\"Minimum:\", y)"
   ]
  },
  {
   "cell_type": "code",
   "execution_count": 193,
   "id": "c1182cd6",
   "metadata": {},
   "outputs": [
    {
     "data": {
      "text/plain": [
       "array([0, 2])"
      ]
     },
     "execution_count": 193,
     "metadata": {},
     "output_type": "execute_result"
    }
   ],
   "source": [
    "# Código de solución estudiante 2\n",
    "np.minimum.reduce(point_xy)"
   ]
  },
  {
   "cell_type": "markdown",
   "id": "d148644d",
   "metadata": {},
   "source": [
    "**Estudiante 2**\n",
    "\n",
    "Con la función `np.minimum-reduce()` se reduce la dimensión del arreglo, y le aplica la función de minimizar a un eje. De esta forma determina el valor mínimo del eje 0, y después determina el valor mínimo del eje 1. "
   ]
  },
  {
   "cell_type": "markdown",
   "id": "30f0057e",
   "metadata": {},
   "source": [
    "–––––––––––––––––––––––––––––––––––––––––––––––––––––––––––––––––––––––––––––––––––––––––––––––––––––––––––––––––––––––––––––––––––––––––––"
   ]
  }
 ],
 "metadata": {
  "kernelspec": {
   "display_name": "Python 3",
   "language": "python",
   "name": "python3"
  },
  "language_info": {
   "codemirror_mode": {
    "name": "ipython",
    "version": 3
   },
   "file_extension": ".py",
   "mimetype": "text/x-python",
   "name": "python",
   "nbconvert_exporter": "python",
   "pygments_lexer": "ipython3",
   "version": "3.8.8"
  }
 },
 "nbformat": 4,
 "nbformat_minor": 5
}
